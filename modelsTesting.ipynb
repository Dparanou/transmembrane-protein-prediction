{
 "cells": [
  {
   "cell_type": "code",
   "execution_count": 1,
   "metadata": {},
   "outputs": [],
   "source": [
    "import pandas as pd\n",
    "import numpy as np\n",
    "import matplotlib.pyplot as plt\n",
    "from sklearn.preprocessing import StandardScaler\n",
    "from sklearn.model_selection import train_test_split, GridSearchCV, StratifiedKFold, cross_validate\n",
    "from sklearn.metrics import accuracy_score, f1_score, roc_auc_score, matthews_corrcoef, balanced_accuracy_score\n",
    "\n",
    "import warnings\n",
    "warnings.filterwarnings('ignore')"
   ]
  },
  {
   "cell_type": "code",
   "execution_count": 2,
   "metadata": {},
   "outputs": [],
   "source": [
    "df = pd.read_csv('final_proteins_dataframe.csv', index_col=0)\n",
    "\n",
    "X = df.iloc[:, 4:43]\n",
    "X = X.drop(['pdb_res_index'], axis=1)\n",
    "X = X.drop(['res_index'], axis=1)\n",
    "y = df['tm_segment']\n",
    "\n",
    "X_train, X_test, y_train, y_test = train_test_split(X, y, test_size=0.2, random_state=42, shuffle=False) # 7 indicates that always get the same split of data each time this example is executed"
   ]
  },
  {
   "cell_type": "code",
   "execution_count": 6,
   "metadata": {},
   "outputs": [
    {
     "name": "stdout",
     "output_type": "stream",
     "text": [
      "Accuracy: 77.24%\n",
      "Balanced accuracy: 76.98%\n",
      "Roc: 84.04%\n",
      "F1 score: 74.97%\n"
     ]
    }
   ],
   "source": [
    "from xgboost import XGBClassifier\n",
    "\n",
    "# fit model on training data\n",
    "model = XGBClassifier(objective=\"binary:logistic\")\n",
    "model.fit(X_train, y_train)\n",
    "\n",
    "# make predictions for test data\n",
    "y_pred = model.predict(X_test)\n",
    "predictions = [round(value) for value in y_pred]\n",
    "\n",
    "# evaluate predictions\n",
    "accuracy = accuracy_score(y_test, predictions)\n",
    "print(\"Accuracy: %.2f%%\" % (accuracy * 100.0))\n",
    "\n",
    "# evaluate predictions\n",
    "accuracy_bl = balanced_accuracy_score(y_test, predictions)\n",
    "print(\"Balanced accuracy: %.2f%%\" % (accuracy_bl * 100.0))\n",
    "\n",
    "roc_score = roc_auc_score(y_test, model.predict_proba(X_test)[:, 1])\n",
    "print(\"Roc: %.2f%%\" % (roc_score* 100.0))\n",
    "\n",
    "f1 = f1_score(y_test, predictions)\n",
    "print(\"F1 score: %.2f%%\" % (f1* 100.0))"
   ]
  },
  {
   "cell_type": "code",
   "execution_count": 3,
   "metadata": {},
   "outputs": [
    {
     "name": "stdout",
     "output_type": "stream",
     "text": [
      "Aaccuracy: 78.06%\n",
      "Balanced accuracy: 77.83%\n",
      "Roc: 85.62%\n",
      "F1 score: 76.05%\n"
     ]
    }
   ],
   "source": [
    "from sklearn.svm import SVC\n",
    "\n",
    "svm = SVC(gamma='auto', probability=True, kernel=\"linear\")\n",
    "svm.fit(X_train, y_train)\n",
    "\n",
    "ypred = svm.predict(X_test)\n",
    "\n",
    "# evaluate ypred\n",
    "accuracy = accuracy_score(y_test.values, ypred)\n",
    "print(\"Aaccuracy: %.2f%%\" % (accuracy * 100.0))\n",
    "\n",
    "# evaluate ypred\n",
    "accuracy_bl = balanced_accuracy_score(y_test.values, ypred)\n",
    "print(\"Balanced accuracy: %.2f%%\" % (accuracy_bl * 100.0))\n",
    "\n",
    "roc_score = roc_auc_score(y_test.values, svm.predict_proba(X_test)[:, 1])\n",
    "print(\"Roc: %.2f%%\" % (roc_score* 100.0))\n",
    "\n",
    "f1 = f1_score(y_test.values, ypred)\n",
    "print(\"F1 score: %.2f%%\" % (f1* 100.0))"
   ]
  },
  {
   "cell_type": "code",
   "execution_count": 4,
   "metadata": {},
   "outputs": [
    {
     "name": "stdout",
     "output_type": "stream",
     "text": [
      "Accuracy: 77.59%\n",
      "Balanced accuracy: 77.29%\n",
      "Roc: 84.97%\n",
      "F1 score: 75.19%\n"
     ]
    }
   ],
   "source": [
    "import lightgbm as lgb\n",
    "\n",
    "model = lgb.LGBMClassifier(objective='binary')\n",
    "\n",
    "model.fit(X_train,y_train, verbose=20, eval_metric=['auc', 'logloss', 'average_precision'])\n",
    "\n",
    "# make predictions for test data\n",
    "y_pred = model.predict(X_test)\n",
    "predictions = [round(value) for value in y_pred]\n",
    "\n",
    "# evaluate predictions\n",
    "accuracy = accuracy_score(y_test, predictions)\n",
    "print(\"Accuracy: %.2f%%\" % (accuracy * 100.0))\n",
    "\n",
    "# evaluate predictions\n",
    "accuracy_bl = balanced_accuracy_score(y_test, predictions)\n",
    "print(\"Balanced accuracy: %.2f%%\" % (accuracy_bl * 100.0))\n",
    "\n",
    "roc_score = roc_auc_score(y_test, model.predict_proba(X_test)[:, 1])\n",
    "print(\"Roc: %.2f%%\" % (roc_score* 100.0))\n",
    "\n",
    "f1 = f1_score(y_test, predictions)\n",
    "print(\"F1 score: %.2f%%\" % (f1* 100.0))"
   ]
  },
  {
   "cell_type": "code",
   "execution_count": 5,
   "metadata": {},
   "outputs": [
    {
     "name": "stdout",
     "output_type": "stream",
     "text": [
      "Accuracy: 77.27%\n",
      "Balanced accuracy: 76.93%\n",
      "Roc: 84.13%\n",
      "F1 score: 74.66%\n"
     ]
    }
   ],
   "source": [
    "from sklearn.ensemble import RandomForestClassifier\n",
    "\n",
    "model = RandomForestClassifier()\n",
    "model.fit(X_train,y_train)\n",
    "\n",
    "# make predictions for test data\n",
    "y_pred = model.predict(X_test)\n",
    "predictions = [round(value) for value in y_pred]\n",
    "\n",
    "# evaluate predictions\n",
    "accuracy = accuracy_score(y_test, predictions)\n",
    "print(\"Accuracy: %.2f%%\" % (accuracy * 100.0))\n",
    "\n",
    "# evaluate predictions\n",
    "accuracy_bl = balanced_accuracy_score(y_test, predictions)\n",
    "print(\"Balanced accuracy: %.2f%%\" % (accuracy_bl * 100.0))\n",
    "\n",
    "roc_score = roc_auc_score(y_test, model.predict_proba(X_test)[:, 1])\n",
    "print(\"Roc: %.2f%%\" % (roc_score* 100.0))\n",
    "\n",
    "f1 = f1_score(y_test, predictions)\n",
    "print(\"F1 score: %.2f%%\" % (f1* 100.0))"
   ]
  }
 ],
 "metadata": {
  "interpreter": {
   "hash": "916dbcbb3f70747c44a77c7bcd40155683ae19c65e1c03b4aa3499c5328201f1"
  },
  "kernelspec": {
   "display_name": "Python 3.8.10 64-bit",
   "language": "python",
   "name": "python3"
  },
  "language_info": {
   "codemirror_mode": {
    "name": "ipython",
    "version": 3
   },
   "file_extension": ".py",
   "mimetype": "text/x-python",
   "name": "python",
   "nbconvert_exporter": "python",
   "pygments_lexer": "ipython3",
   "version": "3.8.10"
  },
  "orig_nbformat": 4
 },
 "nbformat": 4,
 "nbformat_minor": 2
}
